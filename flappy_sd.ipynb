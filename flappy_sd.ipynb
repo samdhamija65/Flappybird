{
 "metadata": {
  "language_info": {
   "codemirror_mode": {
    "name": "ipython",
    "version": 3
   },
   "file_extension": ".py",
   "mimetype": "text/x-python",
   "name": "python",
   "nbconvert_exporter": "python",
   "pygments_lexer": "ipython3",
   "version": "3.8.4-candidate"
  },
  "orig_nbformat": 2,
  "kernelspec": {
   "name": "Python 3.8.4 64-bit",
   "display_name": "Python 3.8.4 64-bit",
   "metadata": {
    "interpreter": {
     "hash": "2d8329dd770001397205cd8e169231b86da42c32c067d0acbe3b55c40d31f713"
    }
   }
  }
 },
 "nbformat": 4,
 "nbformat_minor": 2,
 "cells": [
  {
   "cell_type": "code",
   "execution_count": 62,
   "metadata": {},
   "outputs": [],
   "source": [
    "import pygame\n",
    "from pygame.locals import *\n",
    "import sys,random, os"
   ]
  },
  {
   "cell_type": "code",
   "execution_count": 63,
   "metadata": {},
   "outputs": [
    {
     "output_type": "stream",
     "name": "stdout",
     "text": [
      "Your Resolution: 1920 x 1080\n"
     ]
    },
    {
     "output_type": "execute_result",
     "data": {
      "text/plain": [
       "410"
      ]
     },
     "metadata": {},
     "execution_count": 63
    }
   ],
   "source": [
    "fps = 30\n",
    "fClock = pygame.time.Clock()\n",
    "pygame.init()\n",
    "ws, hs = pygame.display.Info().current_w, pygame.display.Info().current_h\n",
    "print(f'Your Resolution: {ws} x {hs}')\n",
    "width = 288\n",
    "height = 512\n",
    "baseY = height * 0.8\n",
    "pX = width/10\n",
    "pY = height/2\n",
    "screen=pygame.display.set_mode((width,height))\n",
    "pygame.display.set_caption('SD FlappyBird')\n",
    "\n",
    "player = pygame.image.load('flappy/gallery/images/bird.png').convert_alpha()\n",
    "bg = pygame.image.load('flappy/gallery/images/background.png').convert_alpha()\n",
    "pipe = (     pygame.transform.rotate ( pygame.image.load('flappy/gallery/images/pipe.png').convert_alpha(), 180), \n",
    "            pygame.image.load( 'flappy/gallery/images/pipe.png').convert_alpha()   )   \n",
    "            # Upperpipe: pipe[0]\n",
    "msg = pygame.image.load( 'flappy/gallery/images/message.png').convert_alpha()\n",
    "start=pygame.image.load( 'flappy/gallery/images/start.png').convert_alpha()\n",
    "base = pygame.image.load( 'flappy/gallery/images/base.png').convert_alpha()\n",
    "no = ( pygame.image.load( 'flappy/gallery/images/0.png').convert_alpha(),\n",
    "pygame.image.load( 'flappy/gallery/images/1.png').convert_alpha(),\n",
    "pygame.image.load( 'flappy/gallery/images/2.png').convert_alpha(),\n",
    "pygame.image.load( 'flappy/gallery/images/3.png').convert_alpha(),\n",
    "pygame.image.load( 'flappy/gallery/images/4.png').convert_alpha(),\n",
    "pygame.image.load( 'flappy/gallery/images/5.png').convert_alpha(),\n",
    "pygame.image.load( 'flappy/gallery/images/6.png').convert_alpha(),\n",
    "pygame.image.load( 'flappy/gallery/images/7.png').convert_alpha(),\n",
    "pygame.image.load( 'flappy/gallery/images/8.png').convert_alpha(),\n",
    "pygame.image.load( 'flappy/gallery/images/9.png').convert_alpha()          \n",
    ")\n",
    "\n",
    "screen.blit(bg,(0,0))\n",
    "screen.blit(player,(pX,pY))\n",
    "screen.blit(msg,(width/5,height/5))\n",
    "screen.blit(start,(width/3.5,height/2))\n",
    "screen.blit(base,(0,baseY))\n",
    "pygame.display.update()\n",
    "fClock.tick(fps)\n"
   ]
  },
  {
   "cell_type": "code",
   "execution_count": 64,
   "metadata": {},
   "outputs": [],
   "source": [
    "def welcome():\n",
    "    for event in pygame.event.get():\n",
    "        if (event == QUIT) or (event.type==KEYDOWN and event.key==K_ESCAPE):\n",
    "            pygame.quit()\n",
    "            sys.exit()\n",
    "        elif event.type==KEYDOWN and (event.key== K_SPACE or event.key==K_UP):\n",
    "            game()\n"
   ]
  },
  {
   "cell_type": "code",
   "execution_count": 65,
   "metadata": {},
   "outputs": [],
   "source": [
    "def game():\n",
    "    baseY = height * 0.8\n",
    "    pX = width/10\n",
    "    pY = height/2\n",
    "    \n",
    "    newpipe1=getrandom()\n",
    "    newpipe2=getrandom()\n",
    "\n",
    "    upperpipes = [      { 'x':width,'y':newpipe1[0]['y'] },\n",
    "                        { 'x':width*2,'y':newpipe2[0]['y'] }      ]\n",
    "\n",
    "\n",
    "    lowerpipes = [      { 'x':width,'y':newpipe1[1]['y'] },\n",
    "                        { 'x':width*2,'y':newpipe2[1]['y'] }      ]\n",
    "\n",
    "    pipeVelX = -5\n",
    "    pVelY = -8\n",
    "    pMinVelY = -9\n",
    "    pMaxVelY = 10\n",
    "    pAccY   = 1\n",
    "\n",
    "    flapped = False\n",
    "    pFlapVelY = -8\n",
    "    score=0\n",
    "    while True:\n",
    "        for event in pygame.event.get():\n",
    "            if (event == QUIT) or (event.type==KEYDOWN and event.key==K_ESCAPE):\n",
    "                pygame.quit()\n",
    "                sys.exit()\n",
    "            elif event.type==KEYDOWN and (event.key== K_SPACE or event.key==K_UP):\n",
    "                if pY>0:\n",
    "                    flapped=True\n",
    "                    pVelY = pFlapVelY\n",
    "                    sounds['wing'].play()\n",
    "\n",
    "        # Collision/Out\n",
    "        crashTest = isCollide ( pX, pY, upperpipes, lowerpipes)\n",
    "        if crashTest:\n",
    "            sounds['die'].play()\n",
    "            break\n",
    "        \n",
    "        # Score\n",
    "        pMid = pX + player.get_width()/2\n",
    "        for up in upperpipes:\n",
    "            pipeMid = up['x'] + pipe[0].get_width()/2\n",
    "            if pipeMid <= pMid < pipeMid + 5:\n",
    "                score +=1\n",
    "                print('Your Score: ', score)\n",
    "                sounds['point'].play()\n",
    "        \n",
    "        if pVelY < pMaxVelY and not flapped:\n",
    "            pVelY += pAccY\n",
    "        \n",
    "        # Flapped Once?\n",
    "        if flapped:\n",
    "            flapped=False\n",
    "\n",
    "        # Moving Pipes to left\n",
    "        for up,lp in zip(upperpipes, lowerpipes):\n",
    "            up['x'] += pipeVelX \n",
    "            lp['x'] += pipeVelX\n",
    "\n",
    "        # Add new ones\n",
    "            if 0 < up['x'] < 5:\n",
    "                newpipe = getrandom()\n",
    "                upperpipes.append(newpipe[0])\n",
    "                lowerpipes.append(newpipe[1])\n",
    "        \n",
    "        # Remove from left\n",
    "            if up['x'] <= -( pipe[0].get_width() ):\n",
    "                upperpipes.pop(0)\n",
    "                lowerpipes.pop(0)\n",
    "        \n",
    "        pHeight = player.get_height()\n",
    "        pY = pY + min(pVelY, baseY - pY - pHeight)\n",
    "\n",
    "        # Blitting (frame by frame)\n",
    "        screen.blit (bg,     (0,0))\n",
    "        for up, lp  in zip(upperpipes, lowerpipes):\n",
    "            screen.blit (pipe[0], (up['x'], up['y']))\n",
    "            screen.blit (pipe[1], (lp['x'], lp['y']))\n",
    "        screen.blit (player, (pX,pY))\n",
    "        screen.blit (base,   (0,baseY))\n",
    "\n",
    "        # score print\n",
    "        x=0\n",
    "        digits = [ int(x) for x in list(str(score)) ]\n",
    "        w = 0\n",
    "        Xoffset = 0\n",
    "        for d in digits:\n",
    "            w += no[d].get_width()\n",
    "        Xoffset = (width - w)/2\n",
    "\n",
    "        for d in digits:\n",
    "            screen.blit(no[d], (Xoffset, height*0.9))\n",
    "            Xoffset += no[d].get_width()\n",
    "        \n",
    "        pygame.display.update()\n",
    "        fClock.tick(fps)\n"
   ]
  },
  {
   "cell_type": "code",
   "execution_count": 66,
   "metadata": {},
   "outputs": [],
   "source": [
    "def getrandom():\n",
    "    offset = player.get_height() + 70\n",
    "    \n",
    "    # Lower Pipe\n",
    "    y2 = offset + random.randrange (0, int(height - base.get_height() - 1.2*offset))\n",
    "    \n",
    "    # Upperpipe\n",
    "    x = width + 200\n",
    "    y1 = - ( pipe[0].get_height() + offset - y2 ) \n",
    "    \n",
    "    result = [\n",
    "        { 'x': x, 'y': y1 },\n",
    "        { 'x': x, 'y': y2 },\n",
    "    ]\n",
    "    \n",
    "    return result"
   ]
  },
  {
   "cell_type": "code",
   "execution_count": 67,
   "metadata": {},
   "outputs": [],
   "source": [
    "def isCollide(pX, pY, upperpipes, lowerpipes):\n",
    "    \n",
    "    # Sky\n",
    "    if pY < 0:\n",
    "        return True\n",
    "\n",
    "    # Upperpipe collision\n",
    "    for up in upperpipes:\n",
    "        if ( abs(pX - up['x']) < pipe[0].get_width() and pY <= up['y'] + pipe[0].get_height()):\n",
    "            return True\n",
    "\n",
    "    pY = pY + player.get_height()\n",
    "    # Ground\n",
    "    if pY >= baseY:\n",
    "        return True\n",
    "    \n",
    "    # LowerPipe\n",
    "    for lp in lowerpipes:\n",
    "        if (abs(pX - lp['x']) < pipe[1].get_width() and pY >= lp['y']):\n",
    "            return True"
   ]
  },
  {
   "cell_type": "code",
   "execution_count": 61,
   "metadata": {},
   "outputs": [
    {
     "output_type": "error",
     "ename": "SystemExit",
     "evalue": "",
     "traceback": [
      "An exception has occurred, use %tb to see the full traceback.\n",
      "\u001b[1;31mSystemExit\u001b[0m\n"
     ]
    }
   ],
   "source": [
    "if __name__=='__main__': \n",
    "    sounds=[]\n",
    "    sounds = {     'die': pygame.mixer.Sound('flappy/gallery/audio/die.wav'),\n",
    "    'point':pygame.mixer.Sound('flappy/gallery/audio/point.wav')    }\n",
    "    sounds['swoosh'] = pygame.mixer.Sound('flappy/gallery/audio/swoosh.wav')\n",
    "    sounds['wing'] = pygame.mixer.Sound('flappy/gallery/audio/wing.wav')\n",
    "\n",
    "    while True:\n",
    "        welcome()"
   ]
  },
  {
   "cell_type": "code",
   "execution_count": null,
   "metadata": {},
   "outputs": [],
   "source": []
  }
 ]
}